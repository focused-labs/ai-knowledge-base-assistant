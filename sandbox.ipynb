{
 "cells": [
  {
   "cell_type": "code",
   "execution_count": null,
   "metadata": {
    "collapsed": true,
    "ExecuteTime": {
     "start_time": "2023-11-22T03:30:55.497284Z",
     "end_time": "2023-11-22T03:30:57.336516Z"
    }
   },
   "outputs": [],
   "source": [
    "!pip install -r requirements.txt"
   ]
  },
  {
   "cell_type": "code",
   "execution_count": null,
   "outputs": [],
   "source": [
    "from import_service import save_website_scrape\n",
    "\n",
    "save_website_scrape([\n",
    "    \"https://focusedlabs.io\",\n",
    "    \"https://focusedlabs.io/about\",\n",
    "    \"https://focusedlabs.io/contact\",\n",
    "    \"https://focusedlabs.io/case-studies\",\n",
    "    \"https://focusedlabs.io/case-studies/agile-workflow-enabled-btr-automation\",\n",
    "    \"https://focusedlabs.io/case-studies/hertz-technology-new-markets\",\n",
    "    \"https://focusedlabs.io/case-studies/aperture-agile-transformation\",\n",
    "    \"https://focusedlabs.io/case-studies/automated-core-business-functionality\",\n",
    "    \"https://focusedlabs.io/services\",\n",
    "    \"https://focusedlabs.io/blog/13-non-obvious-ways-to-come-up-with-product-and-feature-ideas\",\n",
    "    \"https://focusedlabs.io/blog/tactics-for-software-consultant-success\",\n",
    "    \"https://focusedlabs.io/blog/trends-and-patterns-for-creating-a-custom-llm-app\",\n",
    "    \"https://focusedlabs.io/blog/small-steps-towards-effective-prompt-engineering\",\n",
    "    \"https://focusedlabs.io/blog/what-to-do-when-llms-hallucinate\",\n",
    "    \"https://focusedlabs.io/blog/architecture-domain-specific-custom-chatbot\",\n",
    "    \"https://focusedlabs.io/blog/expert-programming-is-not-knowing-everything\",\n",
    "    \"https://focusedlabs.io/blog/highlights-from-session-with-cmo-of-lettuce\",\n",
    "    \"https://focusedlabs.io/blog/are-you-covered-by-your-code-coverage-metric\",\n",
    "    \"https://focusedlabs.io/blog/6-tips-to-improving-your-chatgpt-coding-experience\",\n",
    "    \"https://focusedlabs.io/blog/supercharging-hertz-legacy-systems-by-replacing-a-legacy-api\",\n",
    "    \"https://focusedlabs.io/blog/highlights-from-session-with-cmo-of-lettuce\",\n",
    "    \"https://focusedlabs.io/blog/are-you-covered-by-your-code-coverage-metric\",\n",
    "    \"https://focusedlabs.io/blog/6-tips-to-improving-your-chatgpt-coding-experience\",\n",
    "    \"https://focusedlabs.io/blog/supercharging-hertz-legacy-systems-by-replacing-a-legacy-api\",\n",
    "    \"https://focusedlabs.io/blog/product-market-fit-isnt-just-for-start-ups\",\n",
    "    \"https://focusedlabs.io/blog/software-is-best-demonstrated-not-explained\",\n",
    "    \"https://focusedlabs.io/blog/never-forget-to-remember-with-husky-githooks\",\n",
    "    \"https://focusedlabs.io/blog/a-tight-schedule-spring-kubernetes-and-scheduled-jobs\",\n",
    "    \"https://focusedlabs.io/blog/5-ways-leverage-stripe-build-business\",\n",
    "    \"https://focusedlabs.io/blog/7-tips-to-pass-stripe-cert\",\n",
    "    \"https://focusedlabs.io/blog/tdd-first-step-think\",\n",
    "    \"https://focusedlabs.io/blog/testing-library-queries\",\n",
    "    \"https://focusedlabs.io/blog/my-delivery-lead-journey\",\n",
    "    \"https://focusedlabs.io/blog/building-psychological-safety\",\n",
    "    \"https://focusedlabs.io/blog/want-to-learn-something-new\",\n",
    "    \"https://focusedlabs.io/blog/pair-programming-in-the-time-of-covid\",\n",
    "    \"https://focusedlabs.io/blog/beyond-a-jpeg-nft-as-a-primary-key\",\n",
    "    \"https://focusedlabs.io/blog/testing-interactions-with-other-smart-contracts\",\n",
    "    \"https://focusedlabs.io/blog/how-focused-labs-builds-inclusive-teams\",\n",
    "    \"https://focusedlabs.io/blog/how-coming-off-maternity-leave-has-given-me-a-newborn-appreciation-for-pairing\",\n",
    "    \"https://focusedlabs.io/blog/what-can-a-hackathon-do-for-your-technical-organization-omf\",\n",
    "    \"https://focusedlabs.io/blog/video-how-queer-eye-helped-me-be-a-better-consultant-22eh\",\n",
    "    \"https://focusedlabs.io/blog/spring-boot-validation-in-kotlin-with-field-11om\",\n",
    "    \"https://focusedlabs.io/blog/pro-tip-cd-for-macos-finder\",\n",
    "    \"https://focusedlabs.io/blog/how-to-quickly-delete-multiple-jobs-in-kubernetes\",\n",
    "    \"https://focusedlabs.io/blog/debugging-spring-security\",\n",
    "    \"https://focusedlabs.io/blog/dont-get-stuck-with-out-of-date-dependencies\",\n",
    "    \"https://focusedlabs.io/blog/cancelling-a-stripe-subscription-on-period-end\",\n",
    "    \"https://focusedlabs.io/blog/blog-golf-smallest-post-wins\",\n",
    "    \"https://focusedlabs.io/blog/faster-net-ci-cd-pipelines-with-test-filters\",\n",
    "    \"https://focusedlabs.io/blog/til-the-git-p-flag\",\n",
    "    \"https://focusedlabs.io/blog/cors-hides-real-bugs\",\n",
    "    \"https://focusedlabs.io/blog/focused-on-culture\",\n",
    "    \"https://focusedlabs.io/blog/echo-cancellation-with-web-audio-api-and-chromium\",\n",
    "    \"https://focusedlabs.io/blog/cross-parameter-validation-with-spring\",\n",
    "    \"https://focusedlabs.io/blog/the-no-nonsense-guide-to-jvm-14-memory-on-kubernetes-508m\",\n",
    "    \"https://focusedlabs.io/blog/add-keyboard-shortcuts-to-your-vue-app\",\n",
    "    \"https://focusedlabs.io/blog/sentry-with-spring-boot-the-better-way\",\n",
    "    \"https://focusedlabs.io/blog/editing-kubernetes-secrets-inline\",\n",
    "    \"https://focusedlabs.io/blog/sentry-with-spring-boot\",\n",
    "    \"https://focusedlabs.io/blog/easily-switch-aws-profiles-with-tab-completion\",\n",
    "    \"https://focusedlabs.io/blog/androidx-livedata-and-the-observable-pattern\",\n",
    "    \"https://focusedlabs.io/blog/three-lines-of-typescript-with-jest-to-get-typesafe-mocks\",\n",
    "    \"https://focusedlabs.io/blog/testing-apollos-reactive-variables-in-vuejs-and-graphql\",\n",
    "    \"https://focusedlabs.io/blog/i-built-a-rube-goldburg-machine-to-monitor-my-smoker\",\n",
    "    \"https://focusedlabs.io/blog/scratching-the-surface-of-composition-with-react-native-and-apollo\",\n",
    "    \"https://focusedlabs.io/blog/creating-serverless-functions-using-tdd\",\n",
    "    \"https://focusedlabs.io/blog/vue-router-testing-strategies\",\n",
    "    \"https://focusedlabs.io/blog/deploying-concourse-with-concourse-up\",\n",
    "    \"https://focusedlabs.io/blog/pivotal-web-services-ssl-and-a-custom-domain\",\n",
    "    \"https://focusedlabs.io/blog/evolving-code-reviews-into-pair-programming\",\n",
    "    \"https://focusedlabs.io/blog/provisioning-users-and-groups-for-kubernetes\",\n",
    "    \"https://focusedlabs.io/careers\"\n",
    "])"
   ],
   "metadata": {
    "collapsed": false,
    "ExecuteTime": {
     "start_time": "2023-11-20T16:33:48.926107Z",
     "end_time": "2023-11-20T16:34:07.628140Z"
    }
   }
  },
  {
   "cell_type": "code",
   "execution_count": null,
   "outputs": [],
   "source": [
    "from import_service import parse_and_combine_pdfs\n",
    "\n",
    "parse_and_combine_pdfs()"
   ],
   "metadata": {
    "collapsed": false,
    "ExecuteTime": {
     "start_time": "2023-11-16T15:16:35.659327Z",
     "end_time": "2023-11-16T15:16:36.163206Z"
    }
   }
  },
  {
   "cell_type": "code",
   "execution_count": null,
   "outputs": [],
   "source": [
    "from import_service import read_notion\n",
    "\n",
    "read_notion([\n",
    "    \"41c777505da145e8becb42439580fdbf\",\n",
    "    \"857384dddc744c14b9288cf55d86c443\",\n",
    "    \"b941570b98cb4a34bf283272748601a2\",\n",
    "    \"d3216fec08f04302b0718d8d60e2036b\",\n",
    "    \"27bf460fabdf400fbc2f65d044f899d2\",\n",
    "    \"472fcb208a564a5eb477600767fca000\",\n",
    "    \"95d62796505143d09fe30f01bf72a027\",\n",
    "    \"59a5f3a08ba3493da72672d1ff424f5e\",\n",
    "    \"a7f62ae91b2347bfac34911f378ff7ab\",\n",
    "    \"b816cad9ace84b6bbdc56b623eaf2ef3\",\n",
    "    \"156da01bfae24c3e81803a2413c034f2\",\n",
    "    \"4dbdb33dffff4927a2d782cb2256c92f\",\n",
    "    \"c9e3a0463c884beba00d2b4eb96b3ed2\",\n",
    "    \"c8ea35667354473d898cbecfe67b8807\",\n",
    "    \"c42efb179fa64f6bb7866deb363fb7ef\",\n",
    "    \"9be4f150e3fb4673b537ac46dcf63265\",\n",
    "    \"6acb3238d6d1415db3ea116e969614a5\",\n",
    "    \"1db28f76949a4663ab9bf0c380331328\",\n",
    "    \"397cc287a80c42129315df55fa546375\",\n",
    "    \"8d487024a5f84d08801cbecadef87e04\",\n",
    "    \"c022776a80a2405597f63d1c58b2b592\",\n",
    "    \"f5e28b7783ba4f0dabc6b1d9aff3fdf2\",\n",
    "    \"799e7b8eed454ce28e8a8e035786faba\",\n",
    "    \"18b5db872235497499c0d75dfbe9926b\",\n",
    "    \"83f98a34fdb2436e9f7462fcb72b1da7\",\n",
    "    \"99eeb6b7baea43a38293db7f9d1c1351\",\n",
    "    \"876017c7e97c4861b4cb418e3c9ca5d4\",\n",
    "    \"e4bff1843a224fedbf6a873f109acba5\",\n",
    "    \"785374a7f35d4d159202ebe0e0102c5d\",\n",
    "    \"0806b88094324985a8bf67cf8786bd03\",\n",
    "    \"03ae23fbeeb34aed9815106a52602a51\",\n",
    "    \"493a3046091543209b1795db2d2a84b7\",\n",
    "    \"e58635fa225e44faaaca71f08a842df0\",\n",
    "    \"6c3db67103404a99bdec5793e18e2564\",\n",
    "    \"df465b31748546e9b911d6fddc53f713\",\n",
    "    \"53cf1b20e44048f88735f3be269eace4\",\n",
    "    \"e001eb69fefb49fd82ae324ae1ce4751\"\n",
    "])"
   ],
   "metadata": {
    "collapsed": false,
    "ExecuteTime": {
     "start_time": "2023-11-22T03:47:23.923775Z",
     "end_time": "2023-11-22T03:49:05.383473Z"
    }
   }
  },
  {
   "cell_type": "code",
   "execution_count": null,
   "outputs": [],
   "source": [
    "from accuracy_test import run_accuracy_test\n",
    "\n",
    "run_accuracy_test()"
   ],
   "metadata": {
    "collapsed": false,
    "ExecuteTime": {
     "start_time": "2023-11-22T03:50:24.071814Z",
     "end_time": "2023-11-22T04:06:50.549967Z"
    }
   }
  },
  {
   "cell_type": "code",
   "execution_count": null,
   "outputs": [],
   "source": [
    "from memory_test import run_memory_test\n",
    "\n",
    "run_memory_test()"
   ],
   "metadata": {
    "collapsed": false,
    "ExecuteTime": {
     "start_time": "2023-11-21T13:45:44.285295Z",
     "end_time": "2023-11-21T13:47:57.788773Z"
    }
   }
  },
  {
   "cell_type": "code",
   "execution_count": null,
   "outputs": [],
   "source": [],
   "metadata": {
    "collapsed": false
   }
  }
 ],
 "metadata": {
  "kernelspec": {
   "display_name": "Python 3",
   "language": "python",
   "name": "python3"
  },
  "language_info": {
   "codemirror_mode": {
    "name": "ipython",
    "version": 2
   },
   "file_extension": ".py",
   "mimetype": "text/x-python",
   "name": "python",
   "nbconvert_exporter": "python",
   "pygments_lexer": "ipython2",
   "version": "2.7.6"
  }
 },
 "nbformat": 4,
 "nbformat_minor": 0
}
