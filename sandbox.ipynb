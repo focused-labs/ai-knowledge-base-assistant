{
 "cells": [
  {
   "cell_type": "code",
   "execution_count": null,
   "metadata": {
    "collapsed": true,
    "ExecuteTime": {
     "start_time": "2023-11-20T15:10:32.932512Z",
     "end_time": "2023-11-20T15:10:34.976880Z"
    }
   },
   "outputs": [],
   "source": [
    "!pip install -r requirements.txt"
   ]
  },
  {
   "cell_type": "code",
   "execution_count": null,
   "outputs": [],
   "source": [
    "from import_service import save_website_scrape\n",
    "\n",
    "save_website_scrape([\"https://focusedlabs.io\",\n",
    "                        \"https://focusedlabs.io/about\"])"
   ],
   "metadata": {
    "collapsed": false,
    "ExecuteTime": {
     "start_time": "2023-11-20T16:33:48.926107Z",
     "end_time": "2023-11-20T16:34:07.628140Z"
    }
   }
  },
  {
   "cell_type": "code",
   "execution_count": null,
   "outputs": [],
   "source": [
    "from import_service import parse_and_combine_pdfs\n",
    "\n",
    "parse_and_combine_pdfs()"
   ],
   "metadata": {
    "collapsed": false,
    "ExecuteTime": {
     "start_time": "2023-11-16T15:16:35.659327Z",
     "end_time": "2023-11-16T15:16:36.163206Z"
    }
   }
  },
  {
   "cell_type": "code",
   "execution_count": null,
   "outputs": [],
   "source": [
    "from assistant import create_assistant, create_thread\n",
    "\n",
    "assistant_with_files = create_assistant(\"human\")\n",
    "\n",
    "thread = create_thread()"
   ],
   "metadata": {
    "collapsed": false,
    "ExecuteTime": {
     "start_time": "2023-11-20T16:46:48.587760Z",
     "end_time": "2023-11-20T16:59:10.205955Z"
    }
   }
  },
  {
   "cell_type": "code",
   "execution_count": null,
   "outputs": [],
   "source": [
    "import time\n",
    "from assistant import do_run, get_run_status, get_message, add_user_question\n",
    "\n",
    "add_user_question(thread, \"What are the focused labs core values?\")\n",
    "\n",
    "my_run = do_run(thread, assistant_with_files)\n",
    "\n",
    "run_status = get_run_status(thread, my_run)\n",
    "\n",
    "# Need to capture errors here\n",
    "while run_status.status != \"completed\":\n",
    "    print(\"Not completed, status is \", run_status.status)\n",
    "    time.sleep(2)\n",
    "    run_status = get_run_status(thread, my_run)\n",
    "\n",
    "message = get_message(thread, my_run)\n",
    "\n"
   ],
   "metadata": {
    "collapsed": false,
    "ExecuteTime": {
     "start_time": "2023-11-20T15:13:33.434658Z",
     "end_time": "2023-11-20T15:13:43.111207Z"
    }
   }
  },
  {
   "cell_type": "code",
   "execution_count": null,
   "outputs": [],
   "source": [],
   "metadata": {
    "collapsed": false
   }
  }
 ],
 "metadata": {
  "kernelspec": {
   "display_name": "Python 3",
   "language": "python",
   "name": "python3"
  },
  "language_info": {
   "codemirror_mode": {
    "name": "ipython",
    "version": 2
   },
   "file_extension": ".py",
   "mimetype": "text/x-python",
   "name": "python",
   "nbconvert_exporter": "python",
   "pygments_lexer": "ipython2",
   "version": "2.7.6"
  }
 },
 "nbformat": 4,
 "nbformat_minor": 0
}
